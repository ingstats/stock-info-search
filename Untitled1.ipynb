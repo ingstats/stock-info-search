{
 "cells": [
  {
   "cell_type": "code",
   "execution_count": null,
   "id": "0e3d616c-37a4-459d-8ea1-42c1dce8f0e6",
   "metadata": {},
   "outputs": [],
   "source": [
    "from datetime import datetime\n",
    "from elasticsearch import Elasticsearch\n",
    "from elasticsearch_dsl import Search\n",
    "\n",
    "client = Elasticsearch('http://localhost:9200')\n",
    "\n",
    "def search_index(index_name, field_name, match_name):\n",
    "    s = Search(index=index_name).using(client).query(\"multi_match\", fields=field_name, query=match_name)\n",
    "    print(s.to_dict())\n",
    "    response = s.execute()\n",
    "    return response\n",
    "\n",
    "def search_index_with_date_range(index_name, field_name, match_name, start_date, end_date):\n",
    "    s = Search(index=index_name).using(client).query(\"multi_match\", fields=field_name, query=match_name)\n",
    "    s = s.filter('range', timestamp={'gte': start_date, 'lte': end_date})\n",
    "    response = s.execute()\n",
    "    return response\n"
   ]
  },
  {
   "cell_type": "code",
   "execution_count": 5,
   "id": "d410d7c4-8eb2-4bfb-8772-2a50367f7915",
   "metadata": {},
   "outputs": [],
   "source": [
    "from datetime import datetime\n",
    "from elasticsearch import Elasticsearch\n",
    "from elasticsearch_dsl import Search"
   ]
  },
  {
   "cell_type": "code",
   "execution_count": 6,
   "id": "1788753c-3e21-40a3-adeb-0a82461dacc7",
   "metadata": {},
   "outputs": [],
   "source": [
    "client = Elasticsearch('http://localhost:9200')"
   ]
  },
  {
   "cell_type": "code",
   "execution_count": null,
   "id": "bb793d7b-c728-4d80-b8ef-7a7cc85d6d38",
   "metadata": {},
   "outputs": [],
   "source": []
  }
 ],
 "metadata": {
  "kernelspec": {
   "display_name": "ELKpy310",
   "language": "python",
   "name": "elk"
  },
  "language_info": {
   "codemirror_mode": {
    "name": "ipython",
    "version": 3
   },
   "file_extension": ".py",
   "mimetype": "text/x-python",
   "name": "python",
   "nbconvert_exporter": "python",
   "pygments_lexer": "ipython3",
   "version": "3.10.16"
  }
 },
 "nbformat": 4,
 "nbformat_minor": 5
}
